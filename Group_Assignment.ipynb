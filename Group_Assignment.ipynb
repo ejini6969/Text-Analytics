{
  "nbformat": 4,
  "nbformat_minor": 0,
  "metadata": {
    "colab": {
      "provenance": [],
      "authorship_tag": "ABX9TyPcgp25/F79LGYy8oshXRVL",
      "include_colab_link": true
    },
    "kernelspec": {
      "name": "python3",
      "display_name": "Python 3"
    },
    "language_info": {
      "name": "python"
    }
  },
  "cells": [
    {
      "cell_type": "markdown",
      "metadata": {
        "id": "view-in-github",
        "colab_type": "text"
      },
      "source": [
        "<a href=\"https://colab.research.google.com/github/ejini6969/Text-Analytics/blob/main/Group_Assignment.ipynb\" target=\"_parent\"><img src=\"https://colab.research.google.com/assets/colab-badge.svg\" alt=\"Open In Colab\"/></a>"
      ]
    },
    {
      "cell_type": "code",
      "source": [
        "# Before doing text sentiment and analysis, open the file and output its content \n",
        "file = open(\"/content/Text Corpus.txt\")\n",
        "text = file.read()\n",
        "print(text)\n",
        "file.close()  # Close the file to prevent data loss and corruption"
      ],
      "metadata": {
        "colab": {
          "base_uri": "https://localhost:8080/"
        },
        "id": "D2lujdbFa1Du",
        "outputId": "cd4a0849-d5a9-4ff3-d416-bd533110e7d9"
      },
      "execution_count": 3,
      "outputs": [
        {
          "output_type": "stream",
          "name": "stdout",
          "text": [
            "<s> He read a book </s>\n",
            "<s> I read a different book </s>\n",
            "<s> He read a book my Danielle </s>\n"
          ]
        }
      ]
    },
    {
      "cell_type": "markdown",
      "source": [
        "4) Implement and report the respective sentence probabilities in python using both unigram and bigram language models. "
      ],
      "metadata": {
        "id": "GTIZy2-Tt7RB"
      }
    },
    {
      "cell_type": "code",
      "source": [
        "# find the frequency of each token in the text corpus\n",
        "import nltk\n",
        "nltk.download(\"punkt\")\n",
        "from nltk import word_tokenize\n",
        "dict_frequency = {}\n",
        "bigram_counts = {}\n",
        "unigram_counts = {}\n",
        "text = text.replace(\"<s>\", \"\").replace(\"</s>\", \"\").lower() # remove paddings and convert text corpus to lowercase\n",
        "tokens = word_tokenize(text) \n",
        "print(tokens)\n",
        "\n",
        "for t in tokens:\n",
        "    if t not in dict_frequency: dict_frequency[t] = 1\n",
        "    else:                       dict_frequency[t] += 1\n",
        "print(dict_frequency)"
      ],
      "metadata": {
        "colab": {
          "base_uri": "https://localhost:8080/"
        },
        "id": "P7GqDs9It_Ow",
        "outputId": "3671a9a3-2751-44c9-ed30-919e2a3951e8"
      },
      "execution_count": 12,
      "outputs": [
        {
          "output_type": "stream",
          "name": "stdout",
          "text": [
            "['he', 'read', 'a', 'book', 'i', 'read', 'a', 'different', 'book', 'he', 'read', 'a', 'book', 'my', 'danielle']\n",
            "{'he': 2, 'read': 3, 'a': 3, 'book': 3, 'i': 1, 'different': 1, 'my': 1, 'danielle': 1}\n"
          ]
        },
        {
          "output_type": "stream",
          "name": "stderr",
          "text": [
            "[nltk_data] Downloading package punkt to /root/nltk_data...\n",
            "[nltk_data]   Package punkt is already up-to-date!\n"
          ]
        }
      ]
    },
    {
      "cell_type": "code",
      "source": [
        "uniq = dict_frequency.keys() # list out unique words in text corpus\n",
        "V = len(uniq)                # number of unique words in text corpus\n",
        "print(V)"
      ],
      "metadata": {
        "colab": {
          "base_uri": "https://localhost:8080/"
        },
        "id": "n_e1iGGch0t-",
        "outputId": "4fe4cd7c-8b37-49ba-9d9c-6c4c860f9313"
      },
      "execution_count": 15,
      "outputs": [
        {
          "output_type": "stream",
          "name": "stdout",
          "text": [
            "8\n"
          ]
        }
      ]
    }
  ]
}