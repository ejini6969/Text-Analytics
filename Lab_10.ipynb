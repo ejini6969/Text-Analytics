{
  "nbformat": 4,
  "nbformat_minor": 0,
  "metadata": {
    "colab": {
      "provenance": [],
      "authorship_tag": "ABX9TyNoqtP8SODUmCzAOzer9ngu",
      "include_colab_link": true
    },
    "kernelspec": {
      "name": "python3",
      "display_name": "Python 3"
    },
    "language_info": {
      "name": "python"
    }
  },
  "cells": [
    {
      "cell_type": "markdown",
      "metadata": {
        "id": "view-in-github",
        "colab_type": "text"
      },
      "source": [
        "<a href=\"https://colab.research.google.com/github/ejini6969/Text-Analytics/blob/main/Lab_10.ipynb\" target=\"_parent\"><img src=\"https://colab.research.google.com/assets/colab-badge.svg\" alt=\"Open In Colab\"/></a>"
      ]
    },
    {
      "cell_type": "code",
      "execution_count": 6,
      "metadata": {
        "colab": {
          "base_uri": "https://localhost:8080/"
        },
        "id": "9y7NDpwawrwr",
        "outputId": "434dadd2-5256-4646-b3b7-85aee1fa8a5f"
      },
      "outputs": [
        {
          "output_type": "stream",
          "name": "stdout",
          "text": [
            "[({'TPM': True, 'Tianjin': True}, 'm'), ({'TPM': True, 'Shanghai': True}, 'm'), ({'TPM': True, 'Macao': True}, 'm'), ({'Chiba': True, 'Kobe': True, 'Kyoto': True, 'TPM': True}, 'j'), ({'Chiba': True, 'Kobe': True, 'Macao': True}, 'j')]\n",
            "j\n",
            "m\n",
            "j\n",
            "m\n"
          ]
        },
        {
          "output_type": "stream",
          "name": "stderr",
          "text": [
            "[nltk_data] Downloading package punkt to /root/nltk_data...\n",
            "[nltk_data]   Package punkt is already up-to-date!\n"
          ]
        }
      ],
      "source": [
        "import nltk\n",
        "nltk.download(\"punkt\")\n",
        "from nltk.classify import NaiveBayesClassifier\n",
        "\n",
        "m_data = ['TPM Tianjin TPM', 'TPM TPM Shanghai', 'TPM Macao']\n",
        "j_data = ['Chiba Kobe Kyoto TPM', 'Chiba Kobe Macao']\n",
        "\n",
        "def extract_words(words):\n",
        "  return dict([(word, True) for word in words])\n",
        "\n",
        "m_features = [(extract_words(nltk.tokenize.word_tokenize(m_data[i[0]])), 'm') for i in enumerate(m_data)]\n",
        "j_features = [(extract_words(nltk.tokenize.word_tokenize(j_data[i[0]])), 'j') for i in enumerate(j_data)]\n",
        "\n",
        "train_data = m_features + j_features\n",
        "print(train_data)\n",
        "clf = NaiveBayesClassifier.train(train_data) # train model\n",
        "\n",
        "print(clf.classify(extract_words(nltk.tokenize.word_tokenize(\"TPM Kyoto Macao Chiba Kobe\"))))\n",
        "print(clf.classify(extract_words(nltk.tokenize.word_tokenize(\"TPM Tianjin TPM\"))))\n",
        "print(clf.classify(extract_words(nltk.tokenize.word_tokenize(\"Chiba Kobe Macao\"))))\n",
        "print(clf.classify(extract_words(nltk.tokenize.word_tokenize(\"Malaysia\")))) # \"m\" because by-default it skips probability computation and highest probability is m_data since it has more tokens"
      ]
    }
  ]
}