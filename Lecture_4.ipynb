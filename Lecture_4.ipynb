{
  "nbformat": 4,
  "nbformat_minor": 0,
  "metadata": {
    "colab": {
      "provenance": [],
      "authorship_tag": "ABX9TyMSRb9qTev69wtyB94xlRUv",
      "include_colab_link": true
    },
    "kernelspec": {
      "name": "python3",
      "display_name": "Python 3"
    },
    "language_info": {
      "name": "python"
    }
  },
  "cells": [
    {
      "cell_type": "markdown",
      "metadata": {
        "id": "view-in-github",
        "colab_type": "text"
      },
      "source": [
        "<a href=\"https://colab.research.google.com/github/ejini6969/Text-Analytics/blob/main/Lecture_4.ipynb\" target=\"_parent\"><img src=\"https://colab.research.google.com/assets/colab-badge.svg\" alt=\"Open In Colab\"/></a>"
      ]
    },
    {
      "cell_type": "code",
      "source": [
        "import nltk\n",
        "nltk.download(\"punkt\")\n",
        "from nltk.stem import PorterStemmer\n",
        "from nltk.tokenize import word_tokenize\n",
        "\n",
        "text = \"Discover a range of free learning content designed to help your business or in your career\"\n",
        "\n",
        "ps = PorterStemmer() #gives a better output, limited to English only \n",
        "tokens = word_tokenize(text)\n",
        "\n",
        "for i in tokens:\n",
        "    print(ps.stem(i))"
      ],
      "metadata": {
        "colab": {
          "base_uri": "https://localhost:8080/"
        },
        "id": "cRiMXyzA3Yjj",
        "outputId": "3acbe312-d091-4d12-a195-5a58ddc1a1c6"
      },
      "execution_count": 8,
      "outputs": [
        {
          "output_type": "stream",
          "name": "stdout",
          "text": [
            "discov\n",
            "a\n",
            "rang\n",
            "of\n",
            "free\n",
            "learn\n",
            "content\n",
            "design\n",
            "to\n",
            "help\n",
            "your\n",
            "busi\n",
            "or\n",
            "in\n",
            "your\n",
            "career\n"
          ]
        },
        {
          "output_type": "stream",
          "name": "stderr",
          "text": [
            "[nltk_data] Downloading package punkt to /root/nltk_data...\n",
            "[nltk_data]   Package punkt is already up-to-date!\n"
          ]
        }
      ]
    },
    {
      "cell_type": "markdown",
      "source": [
        "lemmatization > stemming due to less spelling errors (Ex: discov)"
      ],
      "metadata": {
        "id": "DucozMpj5J1D"
      }
    },
    {
      "cell_type": "code",
      "source": [
        "from nltk.stem import LancasterStemmer #not much in use\n",
        "ls = LancasterStemmer()\n",
        "\n",
        "for i in tokens:\n",
        "  print(ls.stem(i))"
      ],
      "metadata": {
        "id": "6ONGcKGE5J4h",
        "outputId": "af9a75d0-4cfb-4096-f0e7-176bf5e909a6",
        "colab": {
          "base_uri": "https://localhost:8080/"
        }
      },
      "execution_count": 4,
      "outputs": [
        {
          "output_type": "stream",
          "name": "stdout",
          "text": [
            "discov\n",
            "a\n",
            "rang\n",
            "of\n",
            "fre\n",
            "learn\n",
            "cont\n",
            "design\n",
            "to\n",
            "help\n",
            "yo\n",
            "busy\n",
            "or\n",
            "in\n",
            "yo\n",
            "car\n"
          ]
        }
      ]
    },
    {
      "cell_type": "code",
      "source": [
        "nltk.SnowballStemmer.languages # languages supproted by SnowballStemmer package (all space-delimitted)"
      ],
      "metadata": {
        "id": "vK2FYqYO54FD",
        "outputId": "6e65c372-d2cc-4a16-d59b-22dcd9542b02",
        "colab": {
          "base_uri": "https://localhost:8080/"
        }
      },
      "execution_count": 5,
      "outputs": [
        {
          "output_type": "execute_result",
          "data": {
            "text/plain": [
              "('arabic',\n",
              " 'danish',\n",
              " 'dutch',\n",
              " 'english',\n",
              " 'finnish',\n",
              " 'french',\n",
              " 'german',\n",
              " 'hungarian',\n",
              " 'italian',\n",
              " 'norwegian',\n",
              " 'porter',\n",
              " 'portuguese',\n",
              " 'romanian',\n",
              " 'russian',\n",
              " 'spanish',\n",
              " 'swedish')"
            ]
          },
          "metadata": {},
          "execution_count": 5
        }
      ]
    },
    {
      "cell_type": "code",
      "source": [
        "ss = nltk.SnowballStemmer('english')\n",
        "for i in tokens:\n",
        "  print(ss.stem(i))\n",
        "\n",
        "# SnowballStemmer / PorterStemmer > LancasterStemmer"
      ],
      "metadata": {
        "id": "5iQSgjw057wN",
        "outputId": "2b28c791-19e2-45ef-c0f0-1299253b0cc5",
        "colab": {
          "base_uri": "https://localhost:8080/"
        }
      },
      "execution_count": 6,
      "outputs": [
        {
          "output_type": "stream",
          "name": "stdout",
          "text": [
            "discov\n",
            "a\n",
            "rang\n",
            "of\n",
            "free\n",
            "learn\n",
            "content\n",
            "design\n",
            "to\n",
            "help\n",
            "your\n",
            "busi\n",
            "or\n",
            "in\n",
            "your\n",
            "career\n"
          ]
        }
      ]
    },
    {
      "cell_type": "markdown",
      "source": [
        "**Lemmatization**"
      ],
      "metadata": {
        "id": "kbiFhIGB6FfI"
      }
    },
    {
      "cell_type": "code",
      "source": [
        "nltk.download(\"wordnet\")\n",
        "nltk.download(\"omw-1.4\")\n",
        "w1 = nltk.WordNetLemmatizer()\n",
        "print([w1.lemmatize(t) for t in tokens])\n",
        "print([w1.lemmatize(t, pos = \"n\") for t in tokens])\n",
        "print([w1.lemmatize(t, pos = \"v\") for t in tokens]) # mention Part Of Speech to obtain corresponding lemma / base form"
      ],
      "metadata": {
        "colab": {
          "base_uri": "https://localhost:8080/"
        },
        "id": "z73JW01i5_S9",
        "outputId": "d766dbaf-7de8-463f-cd19-a4e0e330331c"
      },
      "execution_count": 9,
      "outputs": [
        {
          "output_type": "stream",
          "name": "stdout",
          "text": [
            "['Discover', 'a', 'range', 'of', 'free', 'learning', 'content', 'designed', 'to', 'help', 'your', 'business', 'or', 'in', 'your', 'career']\n",
            "['Discover', 'a', 'range', 'of', 'free', 'learning', 'content', 'designed', 'to', 'help', 'your', 'business', 'or', 'in', 'your', 'career']\n",
            "['Discover', 'a', 'range', 'of', 'free', 'learn', 'content', 'design', 'to', 'help', 'your', 'business', 'or', 'in', 'your', 'career']\n"
          ]
        },
        {
          "output_type": "stream",
          "name": "stderr",
          "text": [
            "[nltk_data] Downloading package wordnet to /root/nltk_data...\n",
            "[nltk_data]   Package wordnet is already up-to-date!\n",
            "[nltk_data] Downloading package omw-1.4 to /root/nltk_data...\n",
            "[nltk_data]   Package omw-1.4 is already up-to-date!\n"
          ]
        }
      ]
    },
    {
      "cell_type": "code",
      "source": [
        "text.lower()"
      ],
      "metadata": {
        "id": "pon25ajh9XXp",
        "outputId": "287b4c93-5013-477d-b49a-046ec208a5f2",
        "colab": {
          "base_uri": "https://localhost:8080/",
          "height": 35
        }
      },
      "execution_count": 10,
      "outputs": [
        {
          "output_type": "execute_result",
          "data": {
            "text/plain": [
              "'discover a range of free learning content designed to help your business or in your career'"
            ],
            "application/vnd.google.colaboratory.intrinsic+json": {
              "type": "string"
            }
          },
          "metadata": {},
          "execution_count": 10
        }
      ]
    }
  ]
}