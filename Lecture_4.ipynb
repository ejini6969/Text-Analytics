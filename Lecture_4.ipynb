{
  "nbformat": 4,
  "nbformat_minor": 0,
  "metadata": {
    "colab": {
      "provenance": [],
      "authorship_tag": "ABX9TyOm6/YOsIaQGfcE80RZnBMb",
      "include_colab_link": true
    },
    "kernelspec": {
      "name": "python3",
      "display_name": "Python 3"
    },
    "language_info": {
      "name": "python"
    }
  },
  "cells": [
    {
      "cell_type": "markdown",
      "metadata": {
        "id": "view-in-github",
        "colab_type": "text"
      },
      "source": [
        "<a href=\"https://colab.research.google.com/github/ejini6969/Text-Analytics/blob/main/Lecture_4.ipynb\" target=\"_parent\"><img src=\"https://colab.research.google.com/assets/colab-badge.svg\" alt=\"Open In Colab\"/></a>"
      ]
    },
    {
      "cell_type": "code",
      "source": [
        "import nltk\n",
        "nltk.download(\"punkt\")\n",
        "from nltk.stem import PorterStemmer\n",
        "from nltk.tokenize import word_tokenize\n",
        "\n",
        "text = \"Discover a range of free learning content design to help your business or in your career\"\n",
        "\n",
        "ps = PorterStemmer()\n",
        "tokens = word_tokenize(text)\n",
        "\n",
        "for i in tokens:\n",
        "    print(ps.stem(i))"
      ],
      "metadata": {
        "colab": {
          "base_uri": "https://localhost:8080/"
        },
        "id": "cRiMXyzA3Yjj",
        "outputId": "27b213e1-1813-41ab-e9f3-b7ea1d4f0862"
      },
      "execution_count": null,
      "outputs": [
        {
          "output_type": "stream",
          "name": "stdout",
          "text": [
            "discov\n",
            "a\n",
            "rang\n",
            "of\n",
            "free\n",
            "learn\n",
            "content\n",
            "design\n",
            "to\n",
            "help\n",
            "your\n",
            "busi\n",
            "or\n",
            "in\n",
            "your\n",
            "career\n"
          ]
        },
        {
          "output_type": "stream",
          "name": "stderr",
          "text": [
            "[nltk_data] Downloading package punkt to /root/nltk_data...\n",
            "[nltk_data]   Package punkt is already up-to-date!\n"
          ]
        }
      ]
    },
    {
      "cell_type": "markdown",
      "source": [],
      "metadata": {
        "id": "DucozMpj5J1D"
      }
    },
    {
      "cell_type": "code",
      "source": [
        "\n",
        "from nltk.stem imports LancasterStemmer"
      ],
      "metadata": {
        "id": "6ONGcKGE5J4h"
      },
      "execution_count": null,
      "outputs": []
    },
    {
      "cell_type": "code",
      "source": [
        "Lemmatization"
      ],
      "metadata": {
        "id": "vK2FYqYO54FD"
      },
      "execution_count": null,
      "outputs": []
    },
    {
      "cell_type": "code",
      "source": [
        "nltk.download(\"wordnet\")\n",
        "nltk.download(\"omw-1.4\")\n",
        "w1 = nltk.WordNetLemmatizer()\n",
        "[w1.lemmatize(t, pos = \"v\") for t in tokens]"
      ],
      "metadata": {
        "colab": {
          "base_uri": "https://localhost:8080/"
        },
        "id": "z73JW01i5_S9",
        "outputId": "e03d5f3f-0f3e-4b88-9fda-4c8207be9183"
      },
      "execution_count": null,
      "outputs": [
        {
          "output_type": "stream",
          "name": "stderr",
          "text": [
            "[nltk_data] Downloading package wordnet to /root/nltk_data...\n",
            "[nltk_data]   Package wordnet is already up-to-date!\n",
            "[nltk_data] Downloading package omw-1.4 to /root/nltk_data...\n",
            "[nltk_data]   Package omw-1.4 is already up-to-date!\n"
          ]
        },
        {
          "output_type": "execute_result",
          "data": {
            "text/plain": [
              "['Discover',\n",
              " 'a',\n",
              " 'range',\n",
              " 'of',\n",
              " 'free',\n",
              " 'learn',\n",
              " 'content',\n",
              " 'design',\n",
              " 'to',\n",
              " 'help',\n",
              " 'your',\n",
              " 'business',\n",
              " 'or',\n",
              " 'in',\n",
              " 'your',\n",
              " 'career']"
            ]
          },
          "metadata": {},
          "execution_count": 6
        }
      ]
    }
  ]
}