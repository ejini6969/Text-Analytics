{
  "nbformat": 4,
  "nbformat_minor": 0,
  "metadata": {
    "colab": {
      "provenance": [],
      "collapsed_sections": [],
      "authorship_tag": "ABX9TyOUp03h9KO8MChGstOoC9kI",
      "include_colab_link": true
    },
    "kernelspec": {
      "name": "python3",
      "display_name": "Python 3"
    },
    "language_info": {
      "name": "python"
    }
  },
  "cells": [
    {
      "cell_type": "markdown",
      "metadata": {
        "id": "view-in-github",
        "colab_type": "text"
      },
      "source": [
        "<a href=\"https://colab.research.google.com/github/ejini6969/Text-Analytics/blob/main/Lab_4.ipynb\" target=\"_parent\"><img src=\"https://colab.research.google.com/assets/colab-badge.svg\" alt=\"Open In Colab\"/></a>"
      ]
    },
    {
      "cell_type": "code",
      "execution_count": 7,
      "metadata": {
        "colab": {
          "base_uri": "https://localhost:8080/"
        },
        "id": "HaD3P-5iVi5d",
        "outputId": "79823d49-f965-43b8-8888-6c6dbd57e747"
      },
      "outputs": [
        {
          "output_type": "stream",
          "name": "stdout",
          "text": [
            "['The', 'price', 'is', \"n't\", '$', '3.9']\n",
            "['He', 'does', \"n't\", 'have', 'a', 'car']\n"
          ]
        },
        {
          "output_type": "stream",
          "name": "stderr",
          "text": [
            "[nltk_data] Downloading package punkt to /root/nltk_data...\n",
            "[nltk_data]   Package punkt is already up-to-date!\n"
          ]
        },
        {
          "output_type": "execute_result",
          "data": {
            "text/plain": [
              "['The', 'price', 'of', 'the', 'car', 'is', 'RM39,000']"
            ]
          },
          "metadata": {},
          "execution_count": 7
        }
      ],
      "source": [
        "import nltk\n",
        "nltk.download(\"punkt\")\n",
        "from nltk.tokenize import word_tokenize\n",
        "\n",
        "text = \"The price isn't $3.9\"\n",
        "print(word_tokenize(text))\n",
        "\n",
        "text2 = \"He doesn't have a car\"\n",
        "print(word_tokenize(text2))\n",
        "\n",
        "text3 = \"The price of the car is RM39,000\"\n",
        "word_tokenize(text3)"
      ]
    },
    {
      "cell_type": "code",
      "source": [
        "from textblob import TextBlob\n",
        "import nltk\n",
        "en_blob = TextBlob(u'This is achieved in practice during stemming, a text preprocessing operation')\n",
        "# print(en_blob.detect_language()) (has been deprecated...)\n",
        "fr_blob = en_blob.translate(from_lang = \"en\", to = \"fr\")\n",
        "print(fr_blob)\n",
        "tokens = fr_blob.words\n",
        "print(tokens)\n",
        "print()\n",
        "stemmer = nltk.SnowballStemmer(\"french\")\n",
        "print([stemmer.stem(t) for t in tokens])"
      ],
      "metadata": {
        "colab": {
          "base_uri": "https://localhost:8080/"
        },
        "id": "FyP9r9tRZGyN",
        "outputId": "b8c812fd-15f2-4767-8aad-59dd695fe9a2"
      },
      "execution_count": 9,
      "outputs": [
        {
          "output_type": "stream",
          "name": "stdout",
          "text": [
            "Ceci est réalisé dans la pratique pendant la tige, une opération de prétraitement de texte\n",
            "['Ceci', 'est', 'réalisé', 'dans', 'la', 'pratique', 'pendant', 'la', 'tige', 'une', 'opération', 'de', 'prétraitement', 'de', 'texte']\n",
            "\n",
            "['cec', 'est', 'réalis', 'dan', 'la', 'pratiqu', 'pend', 'la', 'tig', 'une', 'oper', 'de', 'prétrait', 'de', 'text']\n"
          ]
        }
      ]
    }
  ]
}