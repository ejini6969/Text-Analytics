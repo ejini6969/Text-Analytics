{
  "nbformat": 4,
  "nbformat_minor": 0,
  "metadata": {
    "colab": {
      "provenance": [],
      "collapsed_sections": [],
      "authorship_tag": "ABX9TyMZln4L/bOJb9Q5rGHnNgWn",
      "include_colab_link": true
    },
    "kernelspec": {
      "name": "python3",
      "display_name": "Python 3"
    },
    "language_info": {
      "name": "python"
    }
  },
  "cells": [
    {
      "cell_type": "markdown",
      "metadata": {
        "id": "view-in-github",
        "colab_type": "text"
      },
      "source": [
        "<a href=\"https://colab.research.google.com/github/ejini6969/Text-Analytics/blob/main/Lab_4.ipynb\" target=\"_parent\"><img src=\"https://colab.research.google.com/assets/colab-badge.svg\" alt=\"Open In Colab\"/></a>"
      ]
    },
    {
      "cell_type": "code",
      "source": [
        "from translate import Translator\n",
        "translator = Translator(to_lang = 'zh')\n",
        "translation = translator.translate(\"this is a pen\")\n",
        "print(translation)"
      ],
      "metadata": {
        "id": "slsCbL8q5P-7",
        "outputId": "49bb5f49-b5ef-4a01-9bcb-5348c103ced0",
        "colab": {
          "base_uri": "https://localhost:8080/",
          "height": 356
        }
      },
      "execution_count": null,
      "outputs": [
        {
          "output_type": "error",
          "ename": "ModuleNotFoundError",
          "evalue": "ignored",
          "traceback": [
            "\u001b[0;31m---------------------------------------------------------------------------\u001b[0m",
            "\u001b[0;31mModuleNotFoundError\u001b[0m                       Traceback (most recent call last)",
            "\u001b[0;32m<ipython-input-1-aae288f9c917>\u001b[0m in \u001b[0;36m<module>\u001b[0;34m\u001b[0m\n\u001b[0;32m----> 1\u001b[0;31m \u001b[0;32mfrom\u001b[0m \u001b[0mtranslate\u001b[0m \u001b[0;32mimport\u001b[0m \u001b[0mTranslator\u001b[0m\u001b[0;34m\u001b[0m\u001b[0;34m\u001b[0m\u001b[0m\n\u001b[0m\u001b[1;32m      2\u001b[0m \u001b[0mtranslator\u001b[0m \u001b[0;34m=\u001b[0m \u001b[0mTranslator\u001b[0m\u001b[0;34m(\u001b[0m\u001b[0mto_lang\u001b[0m \u001b[0;34m=\u001b[0m \u001b[0;34m'zh'\u001b[0m\u001b[0;34m)\u001b[0m\u001b[0;34m\u001b[0m\u001b[0;34m\u001b[0m\u001b[0m\n\u001b[1;32m      3\u001b[0m \u001b[0mtranslation\u001b[0m \u001b[0;34m=\u001b[0m \u001b[0mtranslator\u001b[0m\u001b[0;34m.\u001b[0m\u001b[0mtranslate\u001b[0m\u001b[0;34m(\u001b[0m\u001b[0;34m\"this is a pen\"\u001b[0m\u001b[0;34m)\u001b[0m\u001b[0;34m\u001b[0m\u001b[0;34m\u001b[0m\u001b[0m\n\u001b[1;32m      4\u001b[0m \u001b[0mprint\u001b[0m\u001b[0;34m(\u001b[0m\u001b[0mtranslation\u001b[0m\u001b[0;34m)\u001b[0m\u001b[0;34m\u001b[0m\u001b[0;34m\u001b[0m\u001b[0m\n",
            "\u001b[0;31mModuleNotFoundError\u001b[0m: No module named 'translate'",
            "",
            "\u001b[0;31m---------------------------------------------------------------------------\u001b[0;32m\nNOTE: If your import is failing due to a missing package, you can\nmanually install dependencies using either !pip or !apt.\n\nTo view examples of installing some common dependencies, click the\n\"Open Examples\" button below.\n\u001b[0;31m---------------------------------------------------------------------------\u001b[0m\n"
          ],
          "errorDetails": {
            "actions": [
              {
                "action": "open_url",
                "actionText": "Open Examples",
                "url": "/notebooks/snippets/importing_libraries.ipynb"
              }
            ]
          }
        }
      ]
    },
    {
      "cell_type": "code",
      "execution_count": null,
      "metadata": {
        "colab": {
          "base_uri": "https://localhost:8080/"
        },
        "id": "HaD3P-5iVi5d",
        "outputId": "79823d49-f965-43b8-8888-6c6dbd57e747"
      },
      "outputs": [
        {
          "output_type": "stream",
          "name": "stdout",
          "text": [
            "['The', 'price', 'is', \"n't\", '$', '3.9']\n",
            "['He', 'does', \"n't\", 'have', 'a', 'car']\n"
          ]
        },
        {
          "output_type": "stream",
          "name": "stderr",
          "text": [
            "[nltk_data] Downloading package punkt to /root/nltk_data...\n",
            "[nltk_data]   Package punkt is already up-to-date!\n"
          ]
        },
        {
          "output_type": "execute_result",
          "data": {
            "text/plain": [
              "['The', 'price', 'of', 'the', 'car', 'is', 'RM39,000']"
            ]
          },
          "metadata": {},
          "execution_count": 7
        }
      ],
      "source": [
        "import nltk\n",
        "nltk.download(\"punkt\")\n",
        "from nltk.tokenize import word_tokenize\n",
        "\n",
        "text = \"The price isn't $3.9\"\n",
        "print(word_tokenize(text))\n",
        "\n",
        "text2 = \"He doesn't have a car\"\n",
        "print(word_tokenize(text2))\n",
        "\n",
        "text3 = \"The price of the car is RM39,000\"\n",
        "word_tokenize(text3) # issue: unable to separate money unit (RM), unlike dollar ($) sign"
      ]
    },
    {
      "cell_type": "markdown",
      "source": [
        "construct a word cloud based on frequency. \n",
        "\n",
        "Higher frequency -> greater size in word cloud (&& vice versa)\n",
        "\n",
        "bag of words identify frequency of words"
      ],
      "metadata": {
        "id": "UJ7xjMxM3kN2"
      }
    },
    {
      "cell_type": "code",
      "source": [
        "from textblob import TextBlob\n",
        "import nltk\n",
        "en_blob = TextBlob(u'This is achieved in practice during stemming, a text preprocessing operation')\n",
        "# print(en_blob.detect_language()) (has been deprecated...)\n",
        "fr_blob = en_blob.translate(from_lang = \"en\", to = \"fr\")\n",
        "print(fr_blob)\n",
        "tokens = fr_blob.words\n",
        "print(tokens)\n",
        "print()\n",
        "stemmer = nltk.SnowballStemmer(\"french\")\n",
        "print([stemmer.stem(t) for t in tokens])"
      ],
      "metadata": {
        "colab": {
          "base_uri": "https://localhost:8080/"
        },
        "id": "FyP9r9tRZGyN",
        "outputId": "b8c812fd-15f2-4767-8aad-59dd695fe9a2"
      },
      "execution_count": null,
      "outputs": [
        {
          "output_type": "stream",
          "name": "stdout",
          "text": [
            "Ceci est réalisé dans la pratique pendant la tige, une opération de prétraitement de texte\n",
            "['Ceci', 'est', 'réalisé', 'dans', 'la', 'pratique', 'pendant', 'la', 'tige', 'une', 'opération', 'de', 'prétraitement', 'de', 'texte']\n",
            "\n",
            "['cec', 'est', 'réalis', 'dan', 'la', 'pratiqu', 'pend', 'la', 'tig', 'une', 'oper', 'de', 'prétrait', 'de', 'text']\n"
          ]
        }
      ]
    }
  ]
}