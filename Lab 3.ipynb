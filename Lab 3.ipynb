{
  "nbformat": 4,
  "nbformat_minor": 0,
  "metadata": {
    "colab": {
      "provenance": [],
      "authorship_tag": "ABX9TyNfuuQyMds3BVFATLdO7ZNR",
      "include_colab_link": true
    },
    "kernelspec": {
      "name": "python3",
      "display_name": "Python 3"
    },
    "language_info": {
      "name": "python"
    }
  },
  "cells": [
    {
      "cell_type": "markdown",
      "metadata": {
        "id": "view-in-github",
        "colab_type": "text"
      },
      "source": [
        "<a href=\"https://colab.research.google.com/github/ejini6969/Text-Analytics/blob/main/Lab%203.ipynb\" target=\"_parent\"><img src=\"https://colab.research.google.com/assets/colab-badge.svg\" alt=\"Open In Colab\"/></a>"
      ]
    },
    {
      "cell_type": "markdown",
      "source": [
        "split() from python"
      ],
      "metadata": {
        "id": "4sau21VAc6WO"
      }
    },
    {
      "cell_type": "code",
      "source": [
        "text = \"I am John and I am learning TXSA\"\n",
        "tokens = text.split()\n",
        "tokens"
      ],
      "metadata": {
        "colab": {
          "base_uri": "https://localhost:8080/"
        },
        "id": "p-oyQAnFdBXK",
        "outputId": "d9a2ff5f-ff57-4285-e44f-d087cb8c23df"
      },
      "execution_count": 1,
      "outputs": [
        {
          "output_type": "execute_result",
          "data": {
            "text/plain": [
              "['I', 'am', 'John', 'and', 'I', 'am', 'learning', 'TXSA']"
            ]
          },
          "metadata": {},
          "execution_count": 1
        }
      ]
    },
    {
      "cell_type": "code",
      "source": [
        "text = \"I#am#John#and I am learning TXSA\"\n",
        "tokens = text.split('#')\n",
        "tokens"
      ],
      "metadata": {
        "colab": {
          "base_uri": "https://localhost:8080/"
        },
        "id": "DkplfIrUdSI8",
        "outputId": "a59f55da-d296-403a-f16b-6d556563c1a9"
      },
      "execution_count": 3,
      "outputs": [
        {
          "output_type": "execute_result",
          "data": {
            "text/plain": [
              "['I', 'am', 'John', 'and I am learning TXSA']"
            ]
          },
          "metadata": {},
          "execution_count": 3
        }
      ]
    }
  ]
}