{
  "nbformat": 4,
  "nbformat_minor": 0,
  "metadata": {
    "colab": {
      "provenance": [],
      "authorship_tag": "ABX9TyP1O5h4gaF58DuR8F2skgaj",
      "include_colab_link": true
    },
    "kernelspec": {
      "name": "python3",
      "display_name": "Python 3"
    },
    "language_info": {
      "name": "python"
    }
  },
  "cells": [
    {
      "cell_type": "markdown",
      "metadata": {
        "id": "view-in-github",
        "colab_type": "text"
      },
      "source": [
        "<a href=\"https://colab.research.google.com/github/ejini6969/Text-Analytics/blob/main/Lab_5.ipynb\" target=\"_parent\"><img src=\"https://colab.research.google.com/assets/colab-badge.svg\" alt=\"Open In Colab\"/></a>"
      ]
    },
    {
      "cell_type": "code",
      "source": [
        "# create FSA\n",
        "from graphviz import Digraph\n",
        "FSA = Digraph(name = 'FSA')\n",
        "FSA.attr(rankdir = 'LR')\n",
        "\n",
        "FSA.node('A', 'q0', shape = 'circle')\n",
        "FSA.node('B', 'q1', shape = 'circle')\n",
        "FSA.node('L', 'q2', shape = 'doublecircle')\n",
        "\n",
        "FSA.edge('A', 'A', label = 'a')\n",
        "FSA.edge('A', 'B', label = 'b')\n",
        "FSA.edge('A', 'L', label = 'a')\n",
        "\n",
        "FSA.view()"
      ],
      "metadata": {
        "colab": {
          "base_uri": "https://localhost:8080/",
          "height": 35
        },
        "id": "zPpJGGS8XzUr",
        "outputId": "cc1c62c3-3736-4d97-a44b-e8d978e66bc2"
      },
      "execution_count": 2,
      "outputs": [
        {
          "output_type": "execute_result",
          "data": {
            "text/plain": [
              "'FSA.gv.pdf'"
            ],
            "application/vnd.google.colaboratory.intrinsic+json": {
              "type": "string"
            }
          },
          "metadata": {},
          "execution_count": 2
        }
      ]
    },
    {
      "cell_type": "code",
      "source": [
        "from graphviz import Digraph\n",
        "FSA = Digraph(name = 'FSA String Sequence')\n",
        "FSA.attr(rankdir = 'LR')\n",
        "\n",
        "FSA.node('A', 'q0', shape = 'circle')\n",
        "FSA.node('B', 'q1', shape = 'circle')\n",
        "FSA.node('C', 'q2', shape = 'doublecircle')\n",
        "\n",
        "FSA.edge('A', 'A', label = 'b')\n",
        "FSA.edge('A', 'B', label = 'a')\n",
        "FSA.edge('B', 'A', label = 'b')\n",
        "FSA.edge('B', 'C', label = 'a')\n",
        "FSA.edge('C', 'C', label = 'a')\n",
        "FSA.edge('C', 'A', label = 'b')\n",
        "\n",
        "FSA.view()"
      ],
      "metadata": {
        "colab": {
          "base_uri": "https://localhost:8080/",
          "height": 35
        },
        "id": "ZIswPThFZFrW",
        "outputId": "461fd41b-1d8b-49f6-864c-54cfb6cbaba7"
      },
      "execution_count": 4,
      "outputs": [
        {
          "output_type": "execute_result",
          "data": {
            "text/plain": [
              "'FSA String Sequence.gv.pdf'"
            ],
            "application/vnd.google.colaboratory.intrinsic+json": {
              "type": "string"
            }
          },
          "metadata": {},
          "execution_count": 4
        }
      ]
    },
    {
      "cell_type": "code",
      "source": [
        "!pip install autocorrect"
      ],
      "metadata": {
        "colab": {
          "base_uri": "https://localhost:8080/"
        },
        "id": "9NFrWCCBaDIH",
        "outputId": "89082416-d674-4ceb-cbe2-17d687d8d3be"
      },
      "execution_count": 5,
      "outputs": [
        {
          "output_type": "stream",
          "name": "stdout",
          "text": [
            "Looking in indexes: https://pypi.org/simple, https://us-python.pkg.dev/colab-wheels/public/simple/\n",
            "Collecting autocorrect\n",
            "  Downloading autocorrect-2.6.1.tar.gz (622 kB)\n",
            "\u001b[K     |████████████████████████████████| 622 kB 7.3 MB/s \n",
            "\u001b[?25hBuilding wheels for collected packages: autocorrect\n",
            "  Building wheel for autocorrect (setup.py) ... \u001b[?25l\u001b[?25hdone\n",
            "  Created wheel for autocorrect: filename=autocorrect-2.6.1-py3-none-any.whl size=622382 sha256=764729305e1894dda33d5971a8e79b27df25b5649d425783d791df329b5f3db3\n",
            "  Stored in directory: /root/.cache/pip/wheels/54/d4/37/8244101ad50b0f7d9bffd93ce58ed7991ee1753b290923934b\n",
            "Successfully built autocorrect\n",
            "Installing collected packages: autocorrect\n",
            "Successfully installed autocorrect-2.6.1\n"
          ]
        }
      ]
    },
    {
      "cell_type": "code",
      "source": [
        "from autocorrect import Speller\n",
        "spell = Speller(lang = 'en') # autocorrect spelling in American-english language, gives 97% accuracy\n",
        "spell('caaar')\n",
        "spell('caaaaaaaaar')         # fail to correct\n",
        "# will not consider `for` && `four` as error\n",
        "spell(\"four\")\n",
        "# will not consider `present` and `past participle` as error\n",
        "spell(\"run\")"
      ],
      "metadata": {
        "colab": {
          "base_uri": "https://localhost:8080/",
          "height": 35
        },
        "id": "vpC3NsutaP8a",
        "outputId": "ace14e57-4b26-48e5-bbb3-b177b3b46348"
      },
      "execution_count": 7,
      "outputs": [
        {
          "output_type": "execute_result",
          "data": {
            "text/plain": [
              "'caaaaaaaaar'"
            ],
            "application/vnd.google.colaboratory.intrinsic+json": {
              "type": "string"
            }
          },
          "metadata": {},
          "execution_count": 7
        }
      ]
    },
    {
      "cell_type": "code",
      "source": [
        "from textblob import TextBlob\n",
        "b = TextBlob(\"I have an book\")\n",
        "print(b.correct()) # will not perform grammatical correction, only spelling correction\n",
        "b = TextBlob(\"I have an bok\")\n",
        "b.correct() # will correct to the right word using the shortest operation"
      ],
      "metadata": {
        "colab": {
          "base_uri": "https://localhost:8080/"
        },
        "id": "4nYFa-NibPqt",
        "outputId": "1917e6b4-5512-434d-82f9-79715f9ed082"
      },
      "execution_count": 9,
      "outputs": [
        {
          "output_type": "stream",
          "name": "stdout",
          "text": [
            "I have an book\n"
          ]
        },
        {
          "output_type": "execute_result",
          "data": {
            "text/plain": [
              "TextBlob(\"I have an boy\")"
            ]
          },
          "metadata": {},
          "execution_count": 9
        }
      ]
    },
    {
      "cell_type": "code",
      "source": [
        "!pip install language_tool_python"
      ],
      "metadata": {
        "colab": {
          "base_uri": "https://localhost:8080/"
        },
        "id": "8SqMrwsKcoyo",
        "outputId": "60afaa78-b021-4b1b-c1f5-2ea1e405778c"
      },
      "execution_count": 11,
      "outputs": [
        {
          "output_type": "stream",
          "name": "stdout",
          "text": [
            "Looking in indexes: https://pypi.org/simple, https://us-python.pkg.dev/colab-wheels/public/simple/\n",
            "Collecting language_tool_python\n",
            "  Downloading language_tool_python-2.7.1-py3-none-any.whl (34 kB)\n",
            "Requirement already satisfied: tqdm in /usr/local/lib/python3.7/dist-packages (from language_tool_python) (4.64.1)\n",
            "Requirement already satisfied: requests in /usr/local/lib/python3.7/dist-packages (from language_tool_python) (2.23.0)\n",
            "Requirement already satisfied: certifi>=2017.4.17 in /usr/local/lib/python3.7/dist-packages (from requests->language_tool_python) (2022.6.15)\n",
            "Requirement already satisfied: urllib3!=1.25.0,!=1.25.1,<1.26,>=1.21.1 in /usr/local/lib/python3.7/dist-packages (from requests->language_tool_python) (1.24.3)\n",
            "Requirement already satisfied: idna<3,>=2.5 in /usr/local/lib/python3.7/dist-packages (from requests->language_tool_python) (2.10)\n",
            "Requirement already satisfied: chardet<4,>=3.0.2 in /usr/local/lib/python3.7/dist-packages (from requests->language_tool_python) (3.0.4)\n",
            "Installing collected packages: language-tool-python\n",
            "Successfully installed language-tool-python-2.7.1\n"
          ]
        }
      ]
    },
    {
      "cell_type": "code",
      "source": [
        "import language_tool_python\n",
        "tool = language_tool_python.LanguageTool('en-us')"
      ],
      "metadata": {
        "colab": {
          "base_uri": "https://localhost:8080/"
        },
        "id": "M6QLPAarcks5",
        "outputId": "c8f520a0-3cbd-4060-f6ab-82eeaf7af107"
      },
      "execution_count": 12,
      "outputs": [
        {
          "output_type": "stream",
          "name": "stderr",
          "text": [
            "Downloading LanguageTool 5.7: 100%|██████████| 225M/225M [00:03<00:00, 68.1MB/s]\n",
            "INFO:language_tool_python.download_lt:Unzipping /tmp/tmpbr85jh2c.zip to /root/.cache/language_tool_python.\n",
            "INFO:language_tool_python.download_lt:Downloaded https://www.languagetool.org/download/LanguageTool-5.7.zip to /root/.cache/language_tool_python.\n"
          ]
        }
      ]
    },
    {
      "cell_type": "code",
      "source": [
        "text = 'i is a human'\n",
        "match = tool.check(text)       # give description of each error, not possible for big paragraph of texts\n",
        "print(len(match))              # amount of errors found\n",
        "print(tool.correct(text) )     # output corrected text, checks only grammar\n",
        "text = 'My is a human'\n",
        "tool.correct(text)             # Interpret `My` as a name"
      ],
      "metadata": {
        "colab": {
          "base_uri": "https://localhost:8080/",
          "height": 70
        },
        "id": "gfj1svACc498",
        "outputId": "6f20658a-16f5-48d8-9f2f-61679303d420"
      },
      "execution_count": 16,
      "outputs": [
        {
          "output_type": "stream",
          "name": "stdout",
          "text": [
            "2\n",
            "I am a human\n"
          ]
        },
        {
          "output_type": "execute_result",
          "data": {
            "text/plain": [
              "'My is a human'"
            ],
            "application/vnd.google.colaboratory.intrinsic+json": {
              "type": "string"
            }
          },
          "metadata": {},
          "execution_count": 16
        }
      ]
    },
    {
      "cell_type": "markdown",
      "source": [
        "# apply spelling correction then remove stopwords will increase possibility of obtaining stopwords"
      ],
      "metadata": {
        "id": "ma9fe2tjefP5"
      }
    }
  ]
}